{
  "nbformat": 4,
  "nbformat_minor": 0,
  "metadata": {
    "colab": {
      "provenance": [],
      "gpuType": "T4"
    },
    "kernelspec": {
      "name": "python3",
      "display_name": "Python 3"
    },
    "language_info": {
      "name": "python"
    },
    "accelerator": "GPU"
  },
  "cells": [
    {
      "cell_type": "code",
      "source": [
        "from sentence_transformers import SentenceTransformer\n",
        "\n",
        "model = SentenceTransformer('all-mpnet-base-v2')\n",
        "\n",
        "sentences = [\"I love hiking in the mountains during the summer.\", \"Climbing trails and enjoying nature is my favorite summer activity.\",\n",
        "             \"Going for long walks in the hills brings me peace.\", \"Spending time in the outdoors helps me relax and recharge.\",\n",
        "             \"The stock market crashed due to inflation fears.\", \"Quantum computers use superposition and entanglement to compute.\",\n",
        "             \"I enjoy making pasta from scratch using my grandmother’s recipe.\", \"The concert was postponed because of heavy rain.\"]\n",
        "\n",
        "\n",
        "embeddings = model.encode(sentences) # this will contain vectors for each sentence\n",
        "\n",
        "similarities = model.similarity(embeddings, embeddings) # this will contain similarities"
      ],
      "metadata": {
        "id": "7TgbWptjNmdB"
      },
      "execution_count": 3,
      "outputs": []
    },
    {
      "cell_type": "code",
      "source": [
        "embeddings.shape # this returns (number of sentences, hidden state size within the model that we are using)"
      ],
      "metadata": {
        "colab": {
          "base_uri": "https://localhost:8080/"
        },
        "id": "JnVnSJRcO2c9",
        "outputId": "bbeadf6c-513e-41f1-9b43-cb9a9b4d513c"
      },
      "execution_count": 6,
      "outputs": [
        {
          "output_type": "execute_result",
          "data": {
            "text/plain": [
              "(8, 768)"
            ]
          },
          "metadata": {},
          "execution_count": 6
        }
      ]
    },
    {
      "cell_type": "code",
      "source": [
        "similarities"
      ],
      "metadata": {
        "colab": {
          "base_uri": "https://localhost:8080/"
        },
        "id": "7z-wJhOGPQc4",
        "outputId": "ffe4bd61-2112-47e3-e663-cad606da95dc"
      },
      "execution_count": 4,
      "outputs": [
        {
          "output_type": "execute_result",
          "data": {
            "text/plain": [
              "tensor([[ 1.0000,  0.8568,  0.4906,  0.5377, -0.0948,  0.0076,  0.2635, -0.0214],\n",
              "        [ 0.8568,  1.0000,  0.4678,  0.5930, -0.0918,  0.0019,  0.2332, -0.0160],\n",
              "        [ 0.4906,  0.4678,  1.0000,  0.6349, -0.0685, -0.0621,  0.2296, -0.0605],\n",
              "        [ 0.5377,  0.5930,  0.6349,  1.0000, -0.0969,  0.0019,  0.2059,  0.0308],\n",
              "        [-0.0948, -0.0918, -0.0685, -0.0969,  1.0000,  0.0405, -0.0275,  0.1401],\n",
              "        [ 0.0076,  0.0019, -0.0621,  0.0019,  0.0405,  1.0000,  0.1102, -0.0040],\n",
              "        [ 0.2635,  0.2332,  0.2296,  0.2059, -0.0275,  0.1102,  1.0000, -0.0967],\n",
              "        [-0.0214, -0.0160, -0.0605,  0.0308,  0.1401, -0.0040, -0.0967,  1.0000]])"
            ]
          },
          "metadata": {},
          "execution_count": 4
        }
      ]
    }
  ]
}