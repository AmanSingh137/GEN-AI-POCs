{
 "cells": [
  {
   "cell_type": "code",
   "execution_count": 38,
   "id": "32520846-c626-433e-a348-fd0e4e48b0cd",
   "metadata": {},
   "outputs": [],
   "source": [
    "from qdrant_client import QdrantClient\n",
    "from qdrant_client.http import models\n",
    "from qdrant_client.models import RecommendInput, RecommendQuery\n",
    "import numpy as np\n",
    "from faker import Faker"
   ]
  },
  {
   "cell_type": "markdown",
   "id": "d9415b65-d17f-4560-97c6-4b561c41fca5",
   "metadata": {},
   "source": [
    "client = QdrantClient(host=\"localhost\", port=6333)\n",
    "client"
   ]
  },
  {
   "cell_type": "code",
   "execution_count": 4,
   "id": "8a659c70-8ba6-455c-9a50-54f563e7e70a",
   "metadata": {},
   "outputs": [
    {
     "data": {
      "text/plain": [
       "True"
      ]
     },
     "execution_count": 4,
     "metadata": {},
     "output_type": "execute_result"
    }
   ],
   "source": [
    "my_collection = \"first collection\"\n",
    "client.create_collection(\n",
    "    collection_name = my_collection,\n",
    "    vectors_config = models.VectorParams(size=100, distance=models.Distance.COSINE)\n",
    ")"
   ]
  },
  {
   "cell_type": "code",
   "execution_count": 7,
   "id": "1466521b-7c3b-46f3-a63b-942382ed8f58",
   "metadata": {},
   "outputs": [],
   "source": [
    "data = np.random.uniform(low=-1.0, high=1.0, size=(1_000, 100))\n",
    "index = list(range(1_000))"
   ]
  },
  {
   "cell_type": "code",
   "execution_count": 9,
   "id": "64312694-efc8-4ac9-b7c7-9372d4bffb37",
   "metadata": {},
   "outputs": [
    {
     "data": {
      "text/plain": [
       "array([[-0.14127018, -0.13313706, -0.12882448, -0.79986397, -0.78780064,\n",
       "        -0.1798992 , -0.45869344, -0.49252511,  0.08624379, -0.34932202],\n",
       "       [-0.3450304 , -0.4528272 , -0.75618241,  0.52417484,  0.45494544,\n",
       "        -0.66753981, -0.85948363,  0.21396994,  0.34051075,  0.37188729]])"
      ]
     },
     "execution_count": 9,
     "metadata": {},
     "output_type": "execute_result"
    }
   ],
   "source": [
    "data[:2, :10]"
   ]
  },
  {
   "cell_type": "code",
   "execution_count": 10,
   "id": "61028f17-a3eb-4fd6-bb69-b48f0df1255b",
   "metadata": {},
   "outputs": [
    {
     "data": {
      "text/plain": [
       "[990, 991, 992, 993, 994, 995, 996, 997, 998, 999]"
      ]
     },
     "execution_count": 10,
     "metadata": {},
     "output_type": "execute_result"
    }
   ],
   "source": [
    "index[-10:]"
   ]
  },
  {
   "cell_type": "code",
   "execution_count": 11,
   "id": "744930c0-c1c6-4544-90ad-ca154e657858",
   "metadata": {},
   "outputs": [
    {
     "data": {
      "text/plain": [
       "UpdateResult(operation_id=0, status=<UpdateStatus.COMPLETED: 'completed'>)"
      ]
     },
     "execution_count": 11,
     "metadata": {},
     "output_type": "execute_result"
    }
   ],
   "source": [
    "client.upsert(\n",
    "    collection_name = my_collection,\n",
    "    points = models.Batch(\n",
    "        ids = index,\n",
    "        vectors=data.tolist()\n",
    "    )\n",
    ")"
   ]
  },
  {
   "cell_type": "code",
   "execution_count": 13,
   "id": "61a2a58d-9913-45b4-a439-1c61d1b1c8a4",
   "metadata": {},
   "outputs": [
    {
     "data": {
      "text/plain": [
       "[Record(id=10, payload={}, vector=None, shard_key=None, order_value=None),\n",
       " Record(id=14, payload={}, vector=None, shard_key=None, order_value=None),\n",
       " Record(id=500, payload={}, vector=None, shard_key=None, order_value=None)]"
      ]
     },
     "execution_count": 13,
     "metadata": {},
     "output_type": "execute_result"
    }
   ],
   "source": [
    "client.retrieve(\n",
    "    collection_name=my_collection,\n",
    "    ids = [10, 14, 500],\n",
    "    #with_vectors=True\n",
    ")"
   ]
  },
  {
   "cell_type": "code",
   "execution_count": 14,
   "id": "45ed6fa0-21e6-402c-8311-c5a194fa25fa",
   "metadata": {},
   "outputs": [
    {
     "data": {
      "text/plain": [
       "('Brianna Wilson', '031 Lisa Row\\nSouth Mark, MH 14978')"
      ]
     },
     "execution_count": 14,
     "metadata": {},
     "output_type": "execute_result"
    }
   ],
   "source": [
    "fake_something = Faker()\n",
    "fake_something.name(), fake_something.address()"
   ]
  },
  {
   "cell_type": "code",
   "execution_count": 16,
   "id": "98794182-6f4c-4223-824d-977921a3178e",
   "metadata": {},
   "outputs": [
    {
     "data": {
      "text/plain": [
       "[{'artist': 'Katherine Schultz',\n",
       "  'song': 'long wind area',\n",
       "  'url_song': 'https://www.howard.com/',\n",
       "  'year': '2010',\n",
       "  'country': 'Marshall Islands'},\n",
       " {'artist': 'Samuel Walters',\n",
       "  'song': 'available factor inside',\n",
       "  'url_song': 'https://walls.com/',\n",
       "  'year': '2018',\n",
       "  'country': 'Marshall Islands'},\n",
       " {'artist': 'Michael Vega',\n",
       "  'song': 'learn similar dream',\n",
       "  'url_song': 'http://washington.com/',\n",
       "  'year': '2014',\n",
       "  'country': 'Aruba'}]"
      ]
     },
     "execution_count": 16,
     "metadata": {},
     "output_type": "execute_result"
    }
   ],
   "source": [
    "payload = []\n",
    "\n",
    "for i in range(1_000): \n",
    "    payload.append(\n",
    "        {\n",
    "            \"artist\": fake_something.name(),\n",
    "            \"song\": \" \".join(fake_something.words()),\n",
    "            \"url_song\": fake_something.url(),\n",
    "            \"year\": fake_something.year(),\n",
    "            \"country\": fake_something.country()\n",
    "        }\n",
    "    )\n",
    "\n",
    "\n",
    "payload[:3]"
   ]
  },
  {
   "cell_type": "code",
   "execution_count": 17,
   "id": "c20bef09-8550-4a4c-bc04-b7c16512af0f",
   "metadata": {},
   "outputs": [
    {
     "data": {
      "text/plain": [
       "UpdateResult(operation_id=1, status=<UpdateStatus.COMPLETED: 'completed'>)"
      ]
     },
     "execution_count": 17,
     "metadata": {},
     "output_type": "execute_result"
    }
   ],
   "source": [
    "client.upsert(\n",
    "    collection_name = my_collection,\n",
    "    points = models.Batch(\n",
    "        ids=index,\n",
    "        vectors=data.tolist(),\n",
    "        payloads=payload\n",
    "    )\n",
    ")"
   ]
  },
  {
   "cell_type": "code",
   "execution_count": 19,
   "id": "5aecd02a-532f-4c5d-b43b-33e1e39afe89",
   "metadata": {},
   "outputs": [],
   "source": [
    "## Semantic Search"
   ]
  },
  {
   "cell_type": "code",
   "execution_count": 20,
   "id": "04c16a05-6eef-4b82-bc81-e9f071f91347",
   "metadata": {},
   "outputs": [],
   "source": [
    "liri_lira_lira_theme_song = np.random.uniform(low=-1.0, high=1.0, size=(100)).tolist()"
   ]
  },
  {
   "cell_type": "code",
   "execution_count": 22,
   "id": "08e33189-4fee-4df6-98a6-1176aee1426b",
   "metadata": {},
   "outputs": [
    {
     "name": "stderr",
     "output_type": "stream",
     "text": [
      "C:\\Users\\HP\\AppData\\Local\\Temp\\ipykernel_9412\\1447653867.py:1: DeprecationWarning: `search` method is deprecated and will be removed in the future. Use `query_points` instead.\n",
      "  client.search(\n"
     ]
    },
    {
     "data": {
      "text/plain": [
       "[ScoredPoint(id=40, version=1, score=0.3161383, payload={'artist': 'Cory Ochoa', 'song': 'expert story opportunity', 'url_song': 'https://www.barnett-atkins.com/', 'year': '1982', 'country': 'Gibraltar'}, vector=None, shard_key=None, order_value=None),\n",
       " ScoredPoint(id=850, version=1, score=0.30021137, payload={'artist': 'Sharon Duran', 'song': 'occur wonder prevent', 'url_song': 'https://valdez.info/', 'year': '2023', 'country': 'Saint Barthelemy'}, vector=None, shard_key=None, order_value=None),\n",
       " ScoredPoint(id=435, version=1, score=0.2751185, payload={'artist': 'Ashley Black', 'song': 'writer state establish', 'url_song': 'https://www.bautista.biz/', 'year': '1977', 'country': 'Slovenia'}, vector=None, shard_key=None, order_value=None),\n",
       " ScoredPoint(id=369, version=1, score=0.2717974, payload={'artist': 'Ashley Good', 'song': 'I act official', 'url_song': 'http://thompson-goodman.net/', 'year': '1990', 'country': 'Ethiopia'}, vector=None, shard_key=None, order_value=None),\n",
       " ScoredPoint(id=795, version=1, score=0.26690608, payload={'artist': 'Kimberly Ortiz', 'song': 'tend agreement end', 'url_song': 'http://blair.com/', 'year': '2006', 'country': 'Cayman Islands'}, vector=None, shard_key=None, order_value=None),\n",
       " ScoredPoint(id=231, version=1, score=0.26388368, payload={'artist': 'Marc Martinez', 'song': 'reveal suffer worker', 'url_song': 'https://www.mckenzie.org/', 'year': '2003', 'country': 'Niue'}, vector=None, shard_key=None, order_value=None),\n",
       " ScoredPoint(id=545, version=1, score=0.261468, payload={'artist': 'Kevin Clark', 'song': 'probably term tough', 'url_song': 'http://www.gould.com/', 'year': '2015', 'country': 'Cayman Islands'}, vector=None, shard_key=None, order_value=None),\n",
       " ScoredPoint(id=726, version=1, score=0.25998813, payload={'artist': 'Suzanne Franklin', 'song': 'like treat media', 'url_song': 'http://www.wall.com/', 'year': '2015', 'country': 'Cocos (Keeling) Islands'}, vector=None, shard_key=None, order_value=None),\n",
       " ScoredPoint(id=111, version=1, score=0.25814906, payload={'artist': 'Keith Diaz', 'song': 'interview court particular', 'url_song': 'http://www.gould-robles.com/', 'year': '2005', 'country': 'Cambodia'}, vector=None, shard_key=None, order_value=None),\n",
       " ScoredPoint(id=0, version=1, score=0.25733915, payload={'artist': 'Katherine Schultz', 'song': 'long wind area', 'url_song': 'https://www.howard.com/', 'year': '2010', 'country': 'Marshall Islands'}, vector=None, shard_key=None, order_value=None),\n",
       " ScoredPoint(id=551, version=1, score=0.25397214, payload={'artist': 'Mario Li', 'song': 'evening see expect', 'url_song': 'https://www.sullivan-rodgers.org/', 'year': '1978', 'country': 'Pakistan'}, vector=None, shard_key=None, order_value=None),\n",
       " ScoredPoint(id=706, version=1, score=0.2524663, payload={'artist': 'Kim May MD', 'song': 'center level poor', 'url_song': 'http://www.castillo.info/', 'year': '2018', 'country': 'American Samoa'}, vector=None, shard_key=None, order_value=None),\n",
       " ScoredPoint(id=164, version=1, score=0.2440399, payload={'artist': 'Tracy Jennings', 'song': 'raise support position', 'url_song': 'http://www.murray-sutton.com/', 'year': '2022', 'country': 'Panama'}, vector=None, shard_key=None, order_value=None),\n",
       " ScoredPoint(id=350, version=1, score=0.23791388, payload={'artist': 'Mrs. Paula Roman', 'song': 'sit perhaps respond', 'url_song': 'http://www.carroll.com/', 'year': '1976', 'country': 'United States Minor Outlying Islands'}, vector=None, shard_key=None, order_value=None),\n",
       " ScoredPoint(id=484, version=1, score=0.23662308, payload={'artist': 'Tracy Hickman', 'song': 'energy much cell', 'url_song': 'http://davidson-frederick.org/', 'year': '1976', 'country': 'Tonga'}, vector=None, shard_key=None, order_value=None),\n",
       " ScoredPoint(id=16, version=1, score=0.23562932, payload={'artist': 'Laura Yoder', 'song': 'design would discuss', 'url_song': 'https://www.dodson-holloway.com/', 'year': '2007', 'country': 'Uruguay'}, vector=None, shard_key=None, order_value=None),\n",
       " ScoredPoint(id=471, version=1, score=0.23077841, payload={'artist': 'Nicole Estrada', 'song': 'garden world thing', 'url_song': 'https://www.alvarez-mcdonald.com/', 'year': '1993', 'country': 'Timor-Leste'}, vector=None, shard_key=None, order_value=None),\n",
       " ScoredPoint(id=759, version=1, score=0.22781451, payload={'artist': 'Kaitlin Fox', 'song': 'possible two hard', 'url_song': 'https://harris-lucas.com/', 'year': '2021', 'country': 'Netherlands Antilles'}, vector=None, shard_key=None, order_value=None),\n",
       " ScoredPoint(id=327, version=1, score=0.22077231, payload={'artist': 'Robert Brown', 'song': 'organization place their', 'url_song': 'http://lindsey.com/', 'year': '1993', 'country': 'Kazakhstan'}, vector=None, shard_key=None, order_value=None),\n",
       " ScoredPoint(id=934, version=1, score=0.21569587, payload={'artist': 'Charles Wilson', 'song': 'whole blood official', 'url_song': 'http://www.christian.com/', 'year': '1980', 'country': 'Tokelau'}, vector=None, shard_key=None, order_value=None)]"
      ]
     },
     "execution_count": 22,
     "metadata": {},
     "output_type": "execute_result"
    }
   ],
   "source": [
    "client.search(\n",
    "    collection_name=my_collection,\n",
    "    query_vector=liri_lira_lira_theme_song,\n",
    "    limit=20\n",
    ")  # not mentioned in the tutorial but the search method is soon to be deprecated, hence making use of query_points in the next block"
   ]
  },
  {
   "cell_type": "code",
   "execution_count": 29,
   "id": "ec4bb98c-6c11-4154-90a6-af32489dcce6",
   "metadata": {},
   "outputs": [
    {
     "data": {
      "text/plain": [
       "QueryResponse(points=[ScoredPoint(id=40, version=1, score=0.3161383, payload={'artist': 'Cory Ochoa', 'song': 'expert story opportunity', 'url_song': 'https://www.barnett-atkins.com/', 'year': '1982', 'country': 'Gibraltar'}, vector=None, shard_key=None, order_value=None), ScoredPoint(id=850, version=1, score=0.30021137, payload={'artist': 'Sharon Duran', 'song': 'occur wonder prevent', 'url_song': 'https://valdez.info/', 'year': '2023', 'country': 'Saint Barthelemy'}, vector=None, shard_key=None, order_value=None), ScoredPoint(id=435, version=1, score=0.2751185, payload={'artist': 'Ashley Black', 'song': 'writer state establish', 'url_song': 'https://www.bautista.biz/', 'year': '1977', 'country': 'Slovenia'}, vector=None, shard_key=None, order_value=None), ScoredPoint(id=369, version=1, score=0.2717974, payload={'artist': 'Ashley Good', 'song': 'I act official', 'url_song': 'http://thompson-goodman.net/', 'year': '1990', 'country': 'Ethiopia'}, vector=None, shard_key=None, order_value=None), ScoredPoint(id=795, version=1, score=0.26690608, payload={'artist': 'Kimberly Ortiz', 'song': 'tend agreement end', 'url_song': 'http://blair.com/', 'year': '2006', 'country': 'Cayman Islands'}, vector=None, shard_key=None, order_value=None), ScoredPoint(id=231, version=1, score=0.26388368, payload={'artist': 'Marc Martinez', 'song': 'reveal suffer worker', 'url_song': 'https://www.mckenzie.org/', 'year': '2003', 'country': 'Niue'}, vector=None, shard_key=None, order_value=None), ScoredPoint(id=545, version=1, score=0.261468, payload={'artist': 'Kevin Clark', 'song': 'probably term tough', 'url_song': 'http://www.gould.com/', 'year': '2015', 'country': 'Cayman Islands'}, vector=None, shard_key=None, order_value=None), ScoredPoint(id=726, version=1, score=0.25998813, payload={'artist': 'Suzanne Franklin', 'song': 'like treat media', 'url_song': 'http://www.wall.com/', 'year': '2015', 'country': 'Cocos (Keeling) Islands'}, vector=None, shard_key=None, order_value=None), ScoredPoint(id=111, version=1, score=0.25814906, payload={'artist': 'Keith Diaz', 'song': 'interview court particular', 'url_song': 'http://www.gould-robles.com/', 'year': '2005', 'country': 'Cambodia'}, vector=None, shard_key=None, order_value=None), ScoredPoint(id=0, version=1, score=0.25733915, payload={'artist': 'Katherine Schultz', 'song': 'long wind area', 'url_song': 'https://www.howard.com/', 'year': '2010', 'country': 'Marshall Islands'}, vector=None, shard_key=None, order_value=None), ScoredPoint(id=551, version=1, score=0.25397214, payload={'artist': 'Mario Li', 'song': 'evening see expect', 'url_song': 'https://www.sullivan-rodgers.org/', 'year': '1978', 'country': 'Pakistan'}, vector=None, shard_key=None, order_value=None), ScoredPoint(id=706, version=1, score=0.2524663, payload={'artist': 'Kim May MD', 'song': 'center level poor', 'url_song': 'http://www.castillo.info/', 'year': '2018', 'country': 'American Samoa'}, vector=None, shard_key=None, order_value=None), ScoredPoint(id=164, version=1, score=0.2440399, payload={'artist': 'Tracy Jennings', 'song': 'raise support position', 'url_song': 'http://www.murray-sutton.com/', 'year': '2022', 'country': 'Panama'}, vector=None, shard_key=None, order_value=None), ScoredPoint(id=350, version=1, score=0.23791388, payload={'artist': 'Mrs. Paula Roman', 'song': 'sit perhaps respond', 'url_song': 'http://www.carroll.com/', 'year': '1976', 'country': 'United States Minor Outlying Islands'}, vector=None, shard_key=None, order_value=None), ScoredPoint(id=484, version=1, score=0.23662308, payload={'artist': 'Tracy Hickman', 'song': 'energy much cell', 'url_song': 'http://davidson-frederick.org/', 'year': '1976', 'country': 'Tonga'}, vector=None, shard_key=None, order_value=None), ScoredPoint(id=16, version=1, score=0.23562932, payload={'artist': 'Laura Yoder', 'song': 'design would discuss', 'url_song': 'https://www.dodson-holloway.com/', 'year': '2007', 'country': 'Uruguay'}, vector=None, shard_key=None, order_value=None), ScoredPoint(id=471, version=1, score=0.23077841, payload={'artist': 'Nicole Estrada', 'song': 'garden world thing', 'url_song': 'https://www.alvarez-mcdonald.com/', 'year': '1993', 'country': 'Timor-Leste'}, vector=None, shard_key=None, order_value=None), ScoredPoint(id=759, version=1, score=0.22781451, payload={'artist': 'Kaitlin Fox', 'song': 'possible two hard', 'url_song': 'https://harris-lucas.com/', 'year': '2021', 'country': 'Netherlands Antilles'}, vector=None, shard_key=None, order_value=None), ScoredPoint(id=327, version=1, score=0.22077231, payload={'artist': 'Robert Brown', 'song': 'organization place their', 'url_song': 'http://lindsey.com/', 'year': '1993', 'country': 'Kazakhstan'}, vector=None, shard_key=None, order_value=None), ScoredPoint(id=934, version=1, score=0.21569587, payload={'artist': 'Charles Wilson', 'song': 'whole blood official', 'url_song': 'http://www.christian.com/', 'year': '1980', 'country': 'Tokelau'}, vector=None, shard_key=None, order_value=None)])"
      ]
     },
     "execution_count": 29,
     "metadata": {},
     "output_type": "execute_result"
    }
   ],
   "source": [
    "client.query_points(\n",
    "    collection_name=my_collection,\n",
    "    query=liri_lira_lira_theme_song,\n",
    "    limit=20\n",
    ") "
   ]
  },
  {
   "cell_type": "code",
   "execution_count": 30,
   "id": "0331cdce-7a68-46aa-a33a-f504c5749f01",
   "metadata": {},
   "outputs": [
    {
     "data": {
      "text/plain": [
       "Filter(should=None, min_should=None, must=[FieldCondition(key='country', match=MatchValue(value='India'), range=None, geo_bounding_box=None, geo_radius=None, geo_polygon=None, values_count=None, is_empty=None, is_null=None)], must_not=None)"
      ]
     },
     "execution_count": 30,
     "metadata": {},
     "output_type": "execute_result"
    }
   ],
   "source": [
    "indian_songs = models.Filter(\n",
    "    must=[\n",
    "        models.FieldCondition(\n",
    "            key=\"country\", match=models.MatchValue(value=\"India\")\n",
    "        )\n",
    "    ]\n",
    ")\n",
    "indian_songs"
   ]
  },
  {
   "cell_type": "code",
   "execution_count": 33,
   "id": "4ae4ebed-cd9e-4783-bdd8-b79aa57d9f48",
   "metadata": {},
   "outputs": [
    {
     "data": {
      "text/plain": [
       "QueryResponse(points=[ScoredPoint(id=961, version=1, score=0.11896527, payload={'artist': 'Nicole Baker', 'song': 'cold wide commercial', 'url_song': 'https://www.gillespie.com/', 'year': '1975', 'country': 'India'}, vector=None, shard_key=None, order_value=None), ScoredPoint(id=595, version=1, score=0.10060212, payload={'artist': 'Kurt Brown', 'song': 'forward key decide', 'url_song': 'https://thomas.com/', 'year': '2024', 'country': 'India'}, vector=None, shard_key=None, order_value=None)])"
      ]
     },
     "execution_count": 33,
     "metadata": {},
     "output_type": "execute_result"
    }
   ],
   "source": [
    "client.query_points(\n",
    "    collection_name=my_collection,\n",
    "    query=liri_lira_lira_theme_song,\n",
    "    query_filter=indian_songs,\n",
    "    limit=2\n",
    ") "
   ]
  },
  {
   "cell_type": "code",
   "execution_count": 36,
   "id": "a4e6db06-dde8-47e2-a975-f161656ce782",
   "metadata": {},
   "outputs": [
    {
     "ename": "AssertionError",
     "evalue": "Unknown arguments: ['positive']",
     "output_type": "error",
     "traceback": [
      "\u001b[1;31m---------------------------------------------------------------------------\u001b[0m",
      "\u001b[1;31mAssertionError\u001b[0m                            Traceback (most recent call last)",
      "Cell \u001b[1;32mIn[36], line 1\u001b[0m\n\u001b[1;32m----> 1\u001b[0m \u001b[43mclient\u001b[49m\u001b[38;5;241;43m.\u001b[39;49m\u001b[43mquery_points\u001b[49m\u001b[43m(\u001b[49m\n\u001b[0;32m      2\u001b[0m \u001b[43m    \u001b[49m\u001b[43mcollection_name\u001b[49m\u001b[38;5;241;43m=\u001b[39;49m\u001b[43mmy_collection\u001b[49m\u001b[43m,\u001b[49m\n\u001b[0;32m      3\u001b[0m \u001b[43m    \u001b[49m\u001b[43mquery\u001b[49m\u001b[38;5;241;43m=\u001b[39;49m\u001b[43mliri_lira_lira_theme_song\u001b[49m\u001b[43m,\u001b[49m\n\u001b[0;32m      4\u001b[0m \u001b[43m    \u001b[49m\u001b[43mpositive\u001b[49m\u001b[38;5;241;43m=\u001b[39;49m\u001b[43m[\u001b[49m\u001b[38;5;241;43m17\u001b[39;49m\u001b[43m]\u001b[49m\u001b[43m,\u001b[49m\n\u001b[0;32m      5\u001b[0m \u001b[43m    \u001b[49m\u001b[43mlimit\u001b[49m\u001b[38;5;241;43m=\u001b[39;49m\u001b[38;5;241;43m2\u001b[39;49m\n\u001b[0;32m      6\u001b[0m \u001b[43m)\u001b[49m\n",
      "File \u001b[1;32m~\\anaconda3\\envs\\qtutorial\\lib\\site-packages\\qdrant_client\\qdrant_client.py:552\u001b[0m, in \u001b[0;36mQdrantClient.query_points\u001b[1;34m(self, collection_name, query, using, prefetch, query_filter, search_params, limit, offset, with_payload, with_vectors, score_threshold, lookup_from, consistency, shard_key_selector, timeout, **kwargs)\u001b[0m\n\u001b[0;32m    437\u001b[0m \u001b[38;5;28;01mdef\u001b[39;00m\u001b[38;5;250m \u001b[39m\u001b[38;5;21mquery_points\u001b[39m(\n\u001b[0;32m    438\u001b[0m     \u001b[38;5;28mself\u001b[39m,\n\u001b[0;32m    439\u001b[0m     collection_name: \u001b[38;5;28mstr\u001b[39m,\n\u001b[1;32m   (...)\u001b[0m\n\u001b[0;32m    465\u001b[0m     \u001b[38;5;241m*\u001b[39m\u001b[38;5;241m*\u001b[39mkwargs: Any,\n\u001b[0;32m    466\u001b[0m ) \u001b[38;5;241m-\u001b[39m\u001b[38;5;241m>\u001b[39m types\u001b[38;5;241m.\u001b[39mQueryResponse:\n\u001b[0;32m    467\u001b[0m \u001b[38;5;250m    \u001b[39m\u001b[38;5;124;03m\"\"\"Universal endpoint to run any available operation, such as search, recommendation, discovery, context search.\u001b[39;00m\n\u001b[0;32m    468\u001b[0m \n\u001b[0;32m    469\u001b[0m \u001b[38;5;124;03m    Args:\u001b[39;00m\n\u001b[1;32m   (...)\u001b[0m\n\u001b[0;32m    549\u001b[0m \u001b[38;5;124;03m        QueryResponse structure containing list of found close points with similarity scores.\u001b[39;00m\n\u001b[0;32m    550\u001b[0m \u001b[38;5;124;03m    \"\"\"\u001b[39;00m\n\u001b[1;32m--> 552\u001b[0m     \u001b[38;5;28;01massert\u001b[39;00m \u001b[38;5;28mlen\u001b[39m(kwargs) \u001b[38;5;241m==\u001b[39m \u001b[38;5;241m0\u001b[39m, \u001b[38;5;124mf\u001b[39m\u001b[38;5;124m\"\u001b[39m\u001b[38;5;124mUnknown arguments: \u001b[39m\u001b[38;5;132;01m{\u001b[39;00m\u001b[38;5;28mlist\u001b[39m(kwargs\u001b[38;5;241m.\u001b[39mkeys())\u001b[38;5;132;01m}\u001b[39;00m\u001b[38;5;124m\"\u001b[39m\n\u001b[0;32m    554\u001b[0m     \u001b[38;5;66;03m# If the query contains unprocessed documents, we need to embed them and\u001b[39;00m\n\u001b[0;32m    555\u001b[0m     \u001b[38;5;66;03m# replace the original query with the embedded vectors.\u001b[39;00m\n\u001b[0;32m    556\u001b[0m     query \u001b[38;5;241m=\u001b[39m \u001b[38;5;28mself\u001b[39m\u001b[38;5;241m.\u001b[39m_resolve_query(query)\n",
      "\u001b[1;31mAssertionError\u001b[0m: Unknown arguments: ['positive']"
     ]
    }
   ],
   "source": [
    "#not mentioned in the tutorial again but the recommend method is also deprecated, understand query_points needs to be used as an alternative, which means query_points is indeed much powerful"
   ]
  },
  {
   "cell_type": "code",
   "execution_count": 37,
   "id": "b567be09-3ae4-4898-bb17-041d22b8ad4d",
   "metadata": {},
   "outputs": [
    {
     "name": "stderr",
     "output_type": "stream",
     "text": [
      "C:\\Users\\HP\\AppData\\Local\\Temp\\ipykernel_9412\\2701748271.py:1: DeprecationWarning: `recommend` method is deprecated and will be removed in the future. Use `query_points` instead.\n",
      "  client.recommend(\n"
     ]
    },
    {
     "data": {
      "text/plain": [
       "[ScoredPoint(id=416, version=1, score=0.28343883, payload={'artist': 'Paul Cortez', 'song': 'section player green', 'url_song': 'http://garcia-williams.com/', 'year': '2010', 'country': 'Australia'}, vector=None, shard_key=None, order_value=None),\n",
       " ScoredPoint(id=655, version=1, score=0.2760445, payload={'artist': 'Christopher Horne', 'song': 'risk surface particular', 'url_song': 'https://www.smith.com/', 'year': '2010', 'country': 'Cocos (Keeling) Islands'}, vector=None, shard_key=None, order_value=None)]"
      ]
     },
     "execution_count": 37,
     "metadata": {},
     "output_type": "execute_result"
    }
   ],
   "source": [
    "client.recommend(\n",
    "    collection_name=my_collection,\n",
    "    positive=[17],\n",
    "    limit=2,\n",
    ")\n"
   ]
  },
  {
   "cell_type": "code",
   "execution_count": 41,
   "id": "05eed352-f14e-4534-bb20-72db63226b7f",
   "metadata": {},
   "outputs": [
    {
     "data": {
      "text/plain": [
       "QueryResponse(points=[ScoredPoint(id=355, version=1, score=0.4077281, payload={'artist': 'Nathaniel Henderson', 'song': 'Congress government life', 'url_song': 'https://www.valdez.biz/', 'year': '2024', 'country': 'Niger'}, vector=None, shard_key=None, order_value=None), ScoredPoint(id=834, version=1, score=0.26451033, payload={'artist': 'Kristine Wright', 'song': 'join do everybody', 'url_song': 'https://www.odonnell.com/', 'year': '1995', 'country': 'Tajikistan'}, vector=None, shard_key=None, order_value=None)])"
      ]
     },
     "execution_count": 41,
     "metadata": {},
     "output_type": "execute_result"
    }
   ],
   "source": [
    "client.query_points(\n",
    "    collection_name=my_collection,\n",
    "    query=RecommendQuery(\n",
    "        recommend=RecommendInput(\n",
    "            positive=[171, 777],\n",
    "            negative=[100,444]\n",
    "        )\n",
    "    ),\n",
    "    \n",
    "    limit=2\n",
    ")"
   ]
  },
  {
   "cell_type": "code",
   "execution_count": null,
   "id": "ae295612-18da-4cdd-a51f-c8f6f2c02f2f",
   "metadata": {},
   "outputs": [],
   "source": []
  }
 ],
 "metadata": {
  "kernelspec": {
   "display_name": "Python 3 (ipykernel)",
   "language": "python",
   "name": "python3"
  },
  "language_info": {
   "codemirror_mode": {
    "name": "ipython",
    "version": 3
   },
   "file_extension": ".py",
   "mimetype": "text/x-python",
   "name": "python",
   "nbconvert_exporter": "python",
   "pygments_lexer": "ipython3",
   "version": "3.10.18"
  }
 },
 "nbformat": 4,
 "nbformat_minor": 5
}
